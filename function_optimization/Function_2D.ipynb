{
 "cells": [
  {
   "cell_type": "markdown",
   "metadata": {
    "pycharm": {
     "name": "#%% md\n"
    }
   },
   "source": [
    "Here we consider TTGO for various 2D benchmark functions without conditioning (task parameters).\n",
    "\n",
    "Try:\n",
    " - 2D Rosenbrock function (unique global optima)\n",
    " - 2D Himmelblaue function (multiple global optima)\n",
    " - 2D GMM (multiple/unique global optima)\n",
    " - 2D Sine function ( infinite number of global optima)\n",
    " - Something of your own\n",
    " \n",
    "\n",
    "Copyright (c) 2008 Idiap Research Institute, http://www.idiap.ch/\n",
    "\n",
    "Written by Suhan Shetty <suhan.shetty@idiap.ch>,\n"
   ]
  },
  {
   "cell_type": "code",
   "execution_count": 1,
   "metadata": {
    "collapsed": true,
    "pycharm": {
     "name": "#%%\n"
    }
   },
   "outputs": [],
   "source": [
    "import torch\n",
    "import numpy as np\n",
    "import sys\n",
    "sys.path.append('../')\n",
    "from ttgo import TTGO\n",
    "from fcn_plotting_utils import plot_surf, plot_contour\n",
    "%load_ext autoreload\n",
    "np.set_printoptions(precision=3)\n",
    "%autoreload 2"
   ]
  },
  {
   "cell_type": "markdown",
   "metadata": {
    "pycharm": {
     "name": "#%% md\n"
    }
   },
   "source": [
    "##### Define the objective function (a pdf, need not be normalized)"
   ]
  },
  {
   "cell_type": "markdown",
   "metadata": {
    "pycharm": {
     "name": "#%% md\n"
    }
   },
   "source": [
    "Activate one of the following cells:"
   ]
  },
  {
   "cell_type": "code",
   "execution_count": 2,
   "metadata": {
    "pycharm": {
     "name": "#%%\n"
    }
   },
   "outputs": [
    {
     "name": "stdout",
     "output_type": "stream",
     "text": [
      "This has multiple global optima\n"
     ]
    }
   ],
   "source": [
    "#Himmelbalue2D\n",
    "from test_fcns import Himmelblaue_2D\n",
    "L=5\n",
    "n = 2 # Dimension of the domain\n",
    "a=11; b=7;\n",
    "pdf, cost = Himmelblaue_2D(alpha=1, a=a, b=b)\n",
    "print(\"This has multiple global optima\")\n",
    "z_max = 2000 # for plotting"
   ]
  },
  {
   "cell_type": "markdown",
   "metadata": {
    "pycharm": {
     "name": "#%% md\n"
    }
   },
   "source": [
    "##### or"
   ]
  },
  {
   "cell_type": "code",
   "execution_count": 3,
   "metadata": {
    "collapsed": true,
    "pycharm": {
     "name": "#%%\n"
    }
   },
   "outputs": [],
   "source": [
    "# # Rosenbrock 2D\n",
    "# from test_fcns import Rosenbrock_2D\n",
    "# L=2\n",
    "# n = 2 # Dimension of the domain\n",
    "# a=1;b=100\n",
    "# pdf, cost = Rosenbrock_2D(a=a,b=b,alpha=1)\n",
    "# print(\"Global optima is at: \", (a,a**2))\n",
    "# z_max = 2000 # for plotting"
   ]
  },
  {
   "cell_type": "markdown",
   "metadata": {
    "pycharm": {
     "name": "#%% md\n"
    }
   },
   "source": [
    "or"
   ]
  },
  {
   "cell_type": "code",
   "execution_count": 4,
   "metadata": {
    "collapsed": true,
    "pycharm": {
     "name": "#%%\n"
    }
   },
   "outputs": [],
   "source": [
    "# # Sine 2D\n",
    "# from test_fcns import sine_nD\n",
    "# L=2\n",
    "# n = 2 # Dimension of the domain\n",
    "# pdf, cost = sine_nD(n=n)\n",
    "# print(\"An infinite number of solutions exist \")\n",
    "# z_max = 2 # for plotting"
   ]
  },
  {
   "cell_type": "markdown",
   "metadata": {
    "pycharm": {
     "name": "#%% md\n"
    }
   },
   "source": [
    "##### or"
   ]
  },
  {
   "cell_type": "code",
   "execution_count": 5,
   "metadata": {
    "collapsed": true,
    "pycharm": {
     "name": "#%%\n"
    }
   },
   "outputs": [],
   "source": [
    "# # Mixture of Gaussians (un-normalized)\n",
    "# from test_fcns import gmm \n",
    "# L = 2\n",
    "# n = 2 # Dimension of the domain\n",
    "# nmix = 4\n",
    "# mx_coef = np.random.uniform(0,1,(nmix,))\n",
    "# mx_coef = torch.from_numpy(mx_coef/np.sum(mx_coef))\n",
    "# mu = torch.from_numpy(np.random.uniform(-L,L,(nmix,n)))\n",
    "# pdf, cost = gmm(n=n,nmix=nmix,L=L,mx_coef=mx_coef,mu=mu,s=0.05)\n",
    "# print(\"centers: \",mu)\n",
    "# print(\"\\nPDF at centers: \", pdf(mu))\n",
    "# z_max = 2 # for plotting"
   ]
  },
  {
   "cell_type": "markdown",
   "metadata": {
    "pycharm": {
     "name": "#%% md\n"
    }
   },
   "source": [
    "##### Discretize the domain"
   ]
  },
  {
   "cell_type": "code",
   "execution_count": 6,
   "metadata": {
    "collapsed": true,
    "pycharm": {
     "name": "#%%\n"
    }
   },
   "outputs": [],
   "source": [
    "# Define the domain of the function\n",
    "d = 500 # discretization of each axis\n",
    "domain = [torch.linspace(-L,L,d)]*2"
   ]
  },
  {
   "cell_type": "markdown",
   "metadata": {
    "pycharm": {
     "name": "#%% md\n"
    }
   },
   "source": [
    "##### Find the TT-Model"
   ]
  },
  {
   "cell_type": "code",
   "execution_count": 7,
   "metadata": {
    "pycharm": {
     "name": "#%%\n"
    }
   },
   "outputs": [
    {
     "name": "stdout",
     "output_type": "stream",
     "text": [
      "cross device is cpu\n",
      "Cross-approximation over a 2D domain containing 250000 grid points:\n",
      "Note: The algorithm converges as the ratio tt-new-norm/tt-old-norm settles to 1. For TTGO, the convergence is not important, just keep iterating as long as the ratio > 1\n",
      "iter: 0  | tt-new-norm/tt-old-norm: 1.032e-02 | time:   0.0070 | largest rank:   1\n",
      "iter: 1  | tt-new-norm/tt-old-norm: 4.512e+00 | time:   0.1547 | largest rank:   6\n",
      "iter: 2  | tt-new-norm/tt-old-norm: 9.992e-01 | time:   0.2975 | largest rank:  11\n",
      "iter: 3  | tt-new-norm/tt-old-norm: 1.000e+00 | time:   0.4414 | largest rank:  16\n",
      "iter: 4  | tt-new-norm/tt-old-norm: 1.000e+00 | time:   0.6927 | largest rank:  21\n",
      "iter: 5  | tt-new-norm/tt-old-norm: 1.000e+00 | time:   0.8298 | largest rank:  26\n",
      "iter: 6  | tt-new-norm/tt-old-norm: 1.000e+00 | time:   0.9576 | largest rank:  31\n",
      "iter: 7  | tt-new-norm/tt-old-norm: 1.000e+00 | time:   0.9928 | largest rank:  36\n",
      "iter: 8  | tt-new-norm/tt-old-norm: 1.000e+00 | time:   1.1593 | largest rank:  41\n",
      "iter: 9  | tt-new-norm/tt-old-norm: 1.000e+00 | time:   1.4219 | largest rank:  46\n",
      "iter: 10 | tt-new-norm/tt-old-norm: 1.000e+00 | time:   1.6701 | largest rank:  51\n",
      "iter: 11 | tt-new-norm/tt-old-norm: 1.000e+00 | time:   1.9172 | largest rank:  56\n",
      "iter: 12 | tt-new-norm/tt-old-norm: 1.000e+00 | time:   2.1756 | largest rank:  61\n",
      "iter: 13 | tt-new-norm/tt-old-norm: 1.000e+00 | time:   2.3511 | largest rank:  66\n",
      "iter: 14 | tt-new-norm/tt-old-norm: 1.000e+00 | time:   2.6670 | largest rank:  71\n",
      "iter: 15 | tt-new-norm/tt-old-norm: 1.000e+00 | time:   2.9228 | largest rank:  76\n",
      "iter: 16 | tt-new-norm/tt-old-norm: 1.000e+00 | time:   3.1686 | largest rank:  81\n",
      "iter: 17 | tt-new-norm/tt-old-norm: 1.000e+00 | time:   3.4473 | largest rank:  86\n",
      "iter: 18 | tt-new-norm/tt-old-norm: 1.000e+00 | time:   3.6191 | largest rank:  91\n",
      "iter: 19 | tt-new-norm/tt-old-norm: 1.000e+00 | time:   3.9033 | largest rank:  96 <- max_iter was reached: 20\n",
      "Did 1455000 function evaluations, which took 0.3143s (4.629e+06 evals/s)\n",
      "\n",
      "TT-Rank:  tensor([ 1, 14,  1])\n"
     ]
    }
   ],
   "source": [
    "ttgo = TTGO(domain=domain,pdf=pdf,cost=cost)\n",
    "ttgo.cross_approximate(rmax=100, nswp=20, kickrank=5)\n",
    "ttgo.round(eps=1e-3) # compress the tt-model\n",
    "print(\"TT-Rank: \", ttgo.tt_model.ranks_tt)"
   ]
  },
  {
   "cell_type": "markdown",
   "metadata": {
    "pycharm": {
     "name": "#%% md\n"
    }
   },
   "source": [
    "##### Sample from the TT-distribution (no conditioning)"
   ]
  },
  {
   "cell_type": "code",
   "execution_count": 8,
   "metadata": {
    "collapsed": true,
    "pycharm": {
     "name": "#%%\n"
    }
   },
   "outputs": [],
   "source": [
    "n_samples = 50 \n",
    "alpha = 0.5 # choose prioritized sampling parameter (0,1)\n",
    "samples, samples_idx = ttgo.sample(n_samples=n_samples, alpha=alpha, norm=1) "
   ]
  },
  {
   "cell_type": "markdown",
   "metadata": {
    "pycharm": {
     "name": "#%% md\n"
    }
   },
   "source": [
    "Choose the best solution (or top-k solution)"
   ]
  },
  {
   "cell_type": "code",
   "execution_count": 9,
   "metadata": {
    "collapsed": true,
    "pycharm": {
     "name": "#%%\n"
    }
   },
   "outputs": [],
   "source": [
    "best_estimate = ttgo.choose_best_sample(samples) # best estimate\n",
    "k = 4 # number of solutions needed\n",
    "top_k_estimate = ttgo.choose_top_k_sample(samples,k=k) # top-k estimates for multiple solutions"
   ]
  },
  {
   "cell_type": "code",
   "execution_count": 10,
   "metadata": {
    "pycharm": {
     "name": "#%%\n"
    }
   },
   "outputs": [
    {
     "name": "stdout",
     "output_type": "stream",
     "text": [
      "Cost at estimated optima:  [0.005]\n",
      "Cost at top-k proposals:  [0.005 0.009 0.03  0.03 ]\n"
     ]
    }
   ],
   "source": [
    "print(\"Cost at estimated optima: \", cost(best_estimate).numpy())\n",
    "print(\"Cost at top-k proposals: \", cost(top_k_estimate).numpy())"
   ]
  },
  {
   "cell_type": "markdown",
   "metadata": {
    "pycharm": {
     "name": "#%% md\n"
    }
   },
   "source": [
    "Fine tune the TTGO estimate using gradient-based optimization"
   ]
  },
  {
   "cell_type": "code",
   "execution_count": 11,
   "metadata": {
    "pycharm": {
     "name": "#%%\n"
    }
   },
   "outputs": [
    {
     "name": "stdout",
     "output_type": "stream",
     "text": [
      "Optimal cost:  tensor([7.3435e-07])\n",
      "Optimal pdf:  tensor([1.0000])\n"
     ]
    }
   ],
   "source": [
    "ttgo_optimized, _ = ttgo.optimize(best_estimate)\n",
    "print(\"Optimal cost: \", cost(ttgo_optimized))\n",
    "print(\"Optimal pdf: \", pdf(ttgo_optimized))"
   ]
  },
  {
   "cell_type": "code",
   "execution_count": 12,
   "metadata": {
    "pycharm": {
     "name": "#%%\n"
    }
   },
   "outputs": [
    {
     "name": "stdout",
     "output_type": "stream",
     "text": [
      "TTGO Approximation of Optima:  tensor([[ 3.5772, -1.8337]])\n",
      "Optima:  tensor([[ 3.5843, -1.8480]])\n"
     ]
    }
   ],
   "source": [
    "print(\"TTGO Approximation of Optima: \", best_estimate)\n",
    "print(\"Optima: \", ttgo_optimized)"
   ]
  },
  {
   "cell_type": "code",
   "execution_count": 13,
   "metadata": {
    "collapsed": true,
    "pycharm": {
     "name": "#%%\n"
    }
   },
   "outputs": [],
   "source": [
    "ttgo_optimized_k = 1*top_k_estimate\n",
    "for i, x in enumerate(ttgo_optimized_k):\n",
    "    ttgo_optimized_k[i],_ = ttgo.optimize(x)\n"
   ]
  },
  {
   "cell_type": "markdown",
   "metadata": {
    "pycharm": {
     "name": "#%% md\n"
    }
   },
   "source": [
    "### Visualize  Samples from TT Model"
   ]
  },
  {
   "cell_type": "code",
   "execution_count": 14,
   "metadata": {
    "collapsed": true,
    "pycharm": {
     "name": "#%%\n"
    }
   },
   "outputs": [],
   "source": [
    "def cost_plot(x):\n",
    "    x = torch.from_numpy(x)\n",
    "    out =  cost(x)\n",
    "    if not (type(out) is np.ndarray):\n",
    "        out = out.numpy()\n",
    "    return out\n",
    "def pdf_plot(x):\n",
    "    x = torch.from_numpy(x)\n",
    "    out =  pdf(x)\n",
    "    if not (type(out) is np.ndarray):\n",
    "        out = out.numpy()\n",
    "    return out"
   ]
  },
  {
   "cell_type": "code",
   "execution_count": 17,
   "metadata": {
    "pycharm": {
     "name": "#%%\n"
    }
   },
   "outputs": [
    {
     "data": {
      "text/plain": [
       "[<matplotlib.lines.Line2D at 0x7f702de6ceb8>]"
      ]
     },
     "execution_count": 17,
     "metadata": {},
     "output_type": "execute_result"
    }
   ],
   "source": [
    "x = np.linspace(-L,L,d)\n",
    "y = np.linspace(-L,L,d)\n",
    "plt = plot_contour(x,y,cost_plot,data=samples, contour_scale=100, figsize=5)\n",
    "plt.plot(ttgo_optimized_k[:,0],ttgo_optimized_k[:,1],'*r',markersize=10)\n",
    "# plt.plot(best_estimate[:,0],best_estimate[:,1],'*r',markersize=10)\n",
    "\n",
    "# plt.title(\"Cost\")\n",
    "\n",
    "#plt.title(r\"Himmelblau: $z=(x^2+y-{})^2+(x+y^2-{})^2$\".format(a,b))\n",
    "#plt.title(r\"Rosenbrock: $z=(x-1)^2+100 (y-x^2)^2$\".format(11,7))\n",
    "\n",
    "# plt.savefig('rosenbrock2D_a_99.png',pad_inches=0.01, dpi=300)\n",
    "# plt.savefig('Himmelblau2D_99.png',pad_inches=0.01, dpi=300)\n",
    "# plt.savefig('Sine2D_a_0.png',pad_inches=0.01, dpi=300)"
   ]
  },
  {
   "cell_type": "code",
   "execution_count": null,
   "metadata": {
    "collapsed": true,
    "pycharm": {
     "name": "#%%\n"
    }
   },
   "outputs": [],
   "source": []
  }
 ],
 "metadata": {
  "kernelspec": {
   "display_name": "Python 3",
   "language": "python",
   "name": "python3"
  },
  "language_info": {
   "codemirror_mode": {
    "name": "ipython",
    "version": 3
   },
   "file_extension": ".py",
   "mimetype": "text/x-python",
   "name": "python",
   "nbconvert_exporter": "python",
   "pygments_lexer": "ipython3",
   "version": "3.6.2"
  }
 },
 "nbformat": 4,
 "nbformat_minor": 4
}