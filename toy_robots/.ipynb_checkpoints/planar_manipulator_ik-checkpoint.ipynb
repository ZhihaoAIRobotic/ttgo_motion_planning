{
 "cells": [
  {
   "cell_type": "markdown",
   "metadata": {
    "pycharm": {
     "name": "#%% md\n"
    }
   },
   "source": [
    "This notebook demonstrates inverse kinematics of manipulator using TTGO.\n",
    "\n",
    "Copyright (c) 2008 Idiap Research Institute, http://www.idiap.ch/\n",
    "    Written by Suhan Shetty <suhan.shetty@idiap.ch>,\n"
   ]
  },
  {
   "cell_type": "code",
   "execution_count": 1,
   "metadata": {
    "pycharm": {
     "name": "#%%\n"
    }
   },
   "outputs": [],
   "source": [
    "import torch\n",
    "import numpy as np\n",
    "import sys\n",
    "sys.path.append('../')\n",
    "\n",
    "from planar_manipulator import PlanarManipulator\n",
    "from cost_utils import PlanarManipulatorCost\n",
    "from plot_utils import plot_chain\n",
    "from utils import test_ttgo\n",
    "from ttgo import TTGO\n",
    "import time\n",
    "%load_ext autoreload\n",
    "%autoreload 2\n",
    "np.set_printoptions(precision=4, suppress=True)"
   ]
  },
  {
   "cell_type": "markdown",
   "metadata": {
    "pycharm": {
     "name": "#%% md\n"
    }
   },
   "source": [
    "Define the robot paramters"
   ]
  },
  {
   "cell_type": "code",
   "execution_count": 2,
   "metadata": {
    "collapsed": true,
    "pycharm": {
     "name": "#%%\n"
    }
   },
   "outputs": [],
   "source": [
    "n_joints = 3 # number of links\n",
    "link_lengths = torch.tensor([1.4/n_joints]*n_joints)\n",
    "max_theta = np.pi/1.1 # joint angle limits\n",
    "min_theta = -1*max_theta\n",
    "# define the robot\n",
    "robot = PlanarManipulator(n_joints=n_joints,link_lengths=link_lengths,max_theta=max_theta,n_kp=5, device='cpu')"
   ]
  },
  {
   "cell_type": "markdown",
   "metadata": {
    "pycharm": {
     "name": "#%% md\n"
    }
   },
   "source": [
    "Define the cost and the pdf"
   ]
  },
  {
   "cell_type": "code",
   "execution_count": 3,
   "metadata": {
    "collapsed": true,
    "pycharm": {
     "name": "#%%\n"
    }
   },
   "outputs": [],
   "source": [
    "x_obst = [torch.tensor([0.5,0.5]),torch.tensor([-0.35,0.]),\n",
    "          torch.tensor([-0.25,0.75]),torch.tensor([0,-0.75])]\n",
    "r_obst = [0.25,0.15,0.25,0.3]\n",
    "margin=0.025 # margin for collision avoidance\n",
    "w_goal= 0.5; w_obst=0.5; # weights for each sub-cost\n",
    "b_goal=0.15; b_obst=0.5 # nominal costs\n",
    "costPlanarManipulator = PlanarManipulatorCost(robot,x_obst=x_obst,r_obst=r_obst, margin=margin, \n",
    "                                              w_goal=w_goal, w_obst=w_obst,\n",
    "                                              b_goal=b_goal, b_obst=b_obst)\n",
    "def cost(x):\n",
    "    return costPlanarManipulator.cost_ik(x)[:,0]\n",
    "\n",
    "def pdf(x):\n",
    "    return torch.exp(-cost(x)**2) "
   ]
  },
  {
   "cell_type": "markdown",
   "metadata": {
    "pycharm": {
     "name": "#%% md\n"
    }
   },
   "source": [
    "Discretization of the domain"
   ]
  },
  {
   "cell_type": "code",
   "execution_count": 4,
   "metadata": {
    "collapsed": true,
    "pycharm": {
     "name": "#%%\n"
    }
   },
   "outputs": [],
   "source": [
    "# Define the range of target poses of the end-effector\n",
    "pose_max = torch.sum(link_lengths)\n",
    "pose_min = -1*pose_max\n",
    "\n",
    "# Discretize the domain\n",
    "d0_x = 100\n",
    "d0_theta = 100\n",
    "domain_task=  [torch.linspace(pose_min,pose_max,d0_x)]*2 # position of ee\n",
    "domain_decision = [torch.linspace(min_theta,max_theta,d0_theta)]*n_joints # joint angles\n",
    "domain =  domain_task + domain_decision \n"
   ]
  },
  {
   "cell_type": "markdown",
   "metadata": {
    "pycharm": {
     "name": "#%% md\n"
    }
   },
   "source": [
    "### Fit TT-Model for the PMF"
   ]
  },
  {
   "cell_type": "code",
   "execution_count": 5,
   "metadata": {
    "collapsed": true,
    "pycharm": {
     "name": "#%%\n"
    }
   },
   "outputs": [],
   "source": [
    "ttgo = TTGO(domain=domain,pdf=pdf, cost=cost)"
   ]
  },
  {
   "cell_type": "code",
   "execution_count": null,
   "metadata": {
    "pycharm": {
     "name": "#%%\n"
    }
   },
   "outputs": [
    {
     "name": "stdout",
     "output_type": "stream",
     "text": [
      "cross device is cpu\n",
      "Cross-approximation over a 5D domain containing 1e+10 grid points:\n",
      "Note: The algorithm converges as the ratio tt-new-norm/tt-old-norm settles to 1. For TTGO, the convergence is not important, just keep iterating as long as the ratio > 1\n",
      "iter: 0  | tt-new-norm/tt-old-norm: 4.023e-03 | time:   0.0587 | largest rank:   1\n",
      "iter: 1  | tt-new-norm/tt-old-norm: 4.894e+00 | time:   1.0014 | largest rank:   6\n",
      "iter: 2  | tt-new-norm/tt-old-norm: 1.481e+00 | time:   2.5732 | largest rank:  11\n",
      "iter: 3  | tt-new-norm/tt-old-norm: 1.263e+00 | time:   4.8059 | largest rank:  16\n",
      "iter: 4  | tt-new-norm/tt-old-norm: 1.094e+00 | time:   7.5338 | largest rank:  21\n",
      "iter: 5  | tt-new-norm/tt-old-norm: 1.157e+00 | time:  11.2173 | largest rank:  26\n",
      "iter: 6  | tt-new-norm/tt-old-norm: 1.079e+00 | time:  16.1811 | largest rank:  31\n",
      "iter: 7  | tt-new-norm/tt-old-norm: 1.097e+00 | time:  22.3084 | largest rank:  36\n",
      "iter: 8  | tt-new-norm/tt-old-norm: 1.107e+00 | time:  30.1679 | largest rank:  41\n",
      "iter: 9  "
     ]
    }
   ],
   "source": [
    "ttgo.cross_approximate(rmax=100, nswp=10, eps=1e-6,kickrank=5)"
   ]
  },
  {
   "cell_type": "markdown",
   "metadata": {
    "pycharm": {
     "name": "#%% md\n"
    }
   },
   "source": [
    "### Test the model"
   ]
  },
  {
   "cell_type": "code",
   "execution_count": 32,
   "metadata": {
    "collapsed": true,
    "pycharm": {
     "name": "#%%\n"
    }
   },
   "outputs": [],
   "source": [
    "# Generate test set (feasible target points)\n",
    "ns = 1000\n",
    "test_theta = torch.zeros(ns,n_joints)\n",
    "for i in range(n_joints):\n",
    "    unif = torch.distributions.uniform.Uniform(low=min_theta,high=max_theta)\n",
    "    sample = torch.tensor([unif.sample() for i in range(ns)])\n",
    "    test_theta[:,i] = sample\n",
    "    \n",
    "_, _, test_x, test_orient = robot.forward_kin(test_theta)\n",
    "\n",
    "test_set = torch.cat((test_x,test_theta),dim=-1)\n",
    "cost_values = cost(test_set)\n",
    "test_set = test_set[cost(test_set)<0.1]\n",
    "ns = min(test_set.shape[0],50)\n",
    "test_task = test_set[:ns,:len(domain_task)]\n"
   ]
  },
  {
   "cell_type": "code",
   "execution_count": 33,
   "metadata": {
    "collapsed": true,
    "pycharm": {
     "name": "#%%\n"
    }
   },
   "outputs": [],
   "source": [
    "# # # Save the model\n",
    "# file_name = 'planar_ik_.pickle'\n",
    "# torch.save({\n",
    "#     'tt_model':ttgo.tt_model,\n",
    "#     'w': (w_goal,w_obst),\n",
    "#     'b': (b_goal,b_obst),\n",
    "#     'd0':(d0_x,d0_theta),\n",
    "#     'margin': margin,\n",
    "#     'domain': domain,\n",
    "#     'test_task': test_task,\n",
    "#     'x_obst':x_obst,\n",
    "#     'r_obst':r_obst,\n",
    "#     'n_joints':n_joints,\n",
    "#     'link_lengths':link_lengths\n",
    "#     }, file_name)\n"
   ]
  },
  {
   "cell_type": "code",
   "execution_count": 34,
   "metadata": {
    "collapsed": true,
    "pycharm": {
     "name": "#%%\n"
    }
   },
   "outputs": [],
   "source": [
    "sites_task = [0,1]\n",
    "ttgo.set_sites(sites_task)\n"
   ]
  },
  {
   "cell_type": "code",
   "execution_count": 35,
   "metadata": {
    "pycharm": {
     "name": "#%%\n"
    }
   },
   "outputs": [
    {
     "name": "stdout",
     "output_type": "stream",
     "text": [
      "total-cost | dist-to-goal | num-of-collisions \n",
      "################################################################\n",
      "################################################################\n",
      "norm:1  |  alpha:0.9  |  n_samples_tt:20  |  n_samples_rand:20 | \n",
      "################################################################\n",
      "################################################################\n",
      "Cost TT (raw)           :  tensor([0.20, 0.06, 0.00])\n",
      "Cost TT (optimized)     :  tensor([0.02, 0.01, 0.00])\n",
      "Cost rand (raw)           :  tensor([1.43, 0.39, 0.15])\n",
      "Cost rand (optimized)     :  tensor([0.14, 0.04, 0.01])\n",
      "-------------------------------------\n",
      "Performance, c_total <  0.33  (intersection)\n",
      "-------------------------------------\n",
      "Success-rate (tt vs rand) :  0.98 0.86\n",
      "# iterations (tt vs rand) :  7.372093200683594 10.744186401367188\n",
      "Cost-mean-tt-raw: tensor([0.19, 0.06, 0.00])\n",
      "Cost-mean-tt-opt: tensor([0.01, 0.00, 0.00])\n",
      "Cost-mean-rand-raw: tensor([1.38, 0.37, 0.14])\n",
      "Cost-mean-rand-opt: tensor([0.02, 0.00, 0.00])\n",
      "-------------------------------------\n",
      "Performance, c_total <  0.33  (union)\n",
      "-------------------------------------\n",
      "Success-rate (tt vs rand) :  0.98 0.86\n",
      "# iterations (tt vs rand) :  7.2040815353393555 10.285714149475098\n",
      "Cost-mean-tt-raw: tensor([    0.19,     0.06,     0.00])\n",
      "Cost-mean-tt-opt: tensor([0.01, 0.00, 0.00])\n",
      "Cost-mean-rand-raw: tensor([1.40, 0.37, 0.15])\n",
      "Cost-mean-rand-opt: tensor([0.13, 0.04, 0.01])\n"
     ]
    }
   ],
   "source": [
    "n_samples_tt = 20\n",
    "alpha = 0.9\n",
    "norm=1\n",
    "print(\"total-cost | dist-to-goal | num-of-collisions \")\n",
    "_ = test_ttgo(ttgo=ttgo.clone(), cost= costPlanarManipulator.cost_ik, test_task=test_task, \n",
    "          n_samples_tt=n_samples_tt,alpha=alpha, norm=norm, device='cpu', test_rand=True)\n"
   ]
  },
  {
   "cell_type": "markdown",
   "metadata": {
    "pycharm": {
     "name": "#%% md\n"
    }
   },
   "source": [
    "### Visualization"
   ]
  },
  {
   "cell_type": "code",
   "execution_count": 36,
   "metadata": {
    "collapsed": true,
    "pycharm": {
     "name": "#%%\n"
    }
   },
   "outputs": [],
   "source": [
    "# choose a task-parameter (target position of end-effector)\n",
    "s = np.random.choice(np.arange(ns))\n",
    "x_task = test_task[s]\n",
    "\n",
    "# Sample from TT-model\n",
    "alpha=0.8\n",
    "n_samples = 50\n",
    "t1 = time.time()\n",
    "samples, samples_idx = ttgo.sample(n_samples=n_samples, x_task=x_task, alpha=alpha, norm=1) \n",
    "\n",
    "# Fine tune the approximation\n",
    "best_estimate_tt = ttgo.choose_best_sample(samples)\n",
    "best_estimate_tt_opt = ttgo.optimize(best_estimate_tt)\n",
    "t2 = time.time()\n",
    "\n",
    "# For multiple solutions\n",
    "k = 5\n",
    "top_k_estimate_tt = ttgo.choose_top_k_sample(samples,k)\n",
    "top_k_estimate_tt_opt = 1*top_k_estimate_tt\n",
    "for i in range(top_k_estimate_tt.shape[0]):\n",
    "    top_k_estimate_tt_opt[i], _ = ttgo.optimize(top_k_estimate_tt[i])\n",
    "\n"
   ]
  },
  {
   "cell_type": "code",
   "execution_count": 37,
   "metadata": {
    "collapsed": true,
    "pycharm": {
     "name": "#%%\n"
    }
   },
   "outputs": [],
   "source": [
    "\n",
    "figsize=5    \n",
    "    \n",
    "_,joint_loc,_,_ = robot.forward_kin(top_k_estimate_tt[:,len(sites_task):])\n",
    "joint_loc = joint_loc.numpy()\n",
    "link = link_lengths.numpy()\n",
    "x_obst_np = [x.numpy() for x in x_obst]\n",
    "x_target = [x_task[:2].numpy()]\n",
    "\n",
    "title=\"TTGO\"\n",
    "plt = plot_chain(joint_loc=joint_loc, link_lengths=link, x_obst=x_obst_np, r_obst=r_obst, \n",
    "           x_target=x_target, batch=True, skip_frame=1,figsize=figsize, title=title, \n",
    "           color_intensity=0.9, motion=False, alpha=0.5, contrast=0.3,lw=3)\n",
    "\n",
    "\n",
    "_,joint_loc,_,_ = robot.forward_kin(top_k_estimate_tt_opt[:,len(sites_task):])\n",
    "joint_loc = joint_loc.numpy()\n",
    "link = link_lengths.numpy()\n",
    "x_obst_np = [x.numpy() for x in x_obst]\n",
    "\n",
    "title = \"TTGO + Refinement\"\n",
    "plt = plot_chain(joint_loc=joint_loc, link_lengths=link, x_obst=x_obst_np, r_obst=r_obst, \n",
    "           x_target=x_target, batch=True, skip_frame=1, figsize=figsize, title=title, \n",
    "           color_intensity=0., motion=False, alpha=0.5, contrast=0., task='ik',lw=3)"
   ]
  },
  {
   "cell_type": "code",
   "execution_count": 22,
   "metadata": {
    "collapsed": true,
    "pycharm": {
     "name": "#%%\n"
    }
   },
   "outputs": [],
   "source": []
  },
  {
   "cell_type": "code",
   "execution_count": null,
   "metadata": {
    "pycharm": {
     "is_executing": true,
     "name": "#%%\n"
    }
   },
   "outputs": [],
   "source": []
  },
  {
   "cell_type": "code",
   "execution_count": null,
   "metadata": {
    "pycharm": {
     "is_executing": true,
     "name": "#%%\n"
    }
   },
   "outputs": [],
   "source": []
  },
  {
   "cell_type": "code",
   "execution_count": 22,
   "metadata": {
    "pycharm": {
     "name": "#%%\n"
    }
   },
   "outputs": [],
   "source": []
  }
 ],
 "metadata": {
  "kernelspec": {
   "display_name": "Python 3",
   "language": "python",
   "name": "python3"
  },
  "language_info": {
   "codemirror_mode": {
    "name": "ipython",
    "version": 3
   },
   "file_extension": ".py",
   "mimetype": "text/x-python",
   "name": "python",
   "nbconvert_exporter": "python",
   "pygments_lexer": "ipython3",
   "version": "3.6.2"
  }
 },
 "nbformat": 4,
 "nbformat_minor": 4
}
